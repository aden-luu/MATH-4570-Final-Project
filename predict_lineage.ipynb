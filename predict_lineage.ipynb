{
 "cells": [
  {
   "cell_type": "code",
   "execution_count": 1,
   "id": "6a5c79ae",
   "metadata": {},
   "outputs": [],
   "source": [
    "import pandas as pd\n",
    "import numpy as np\n",
    "\n",
    "from sklearn.model_selection import train_test_split, cross_val_score, KFold\n",
    "from sklearn.linear_model import LinearRegression\n",
    "from sklearn.metrics import mean_squared_error, r2_score, accuracy_score\n",
    "\n",
    "from sklearn.linear_model import LogisticRegression\n",
    "\n",
    "from sklearn.neighbors import KNeighborsClassifier\n",
    "\n",
    "from sklearn.ensemble import RandomForestClassifier, GradientBoostingClassifier\n",
    "\n",
    "from sklearn.svm import SVC\n",
    "\n",
    "from sklearn.preprocessing import StandardScaler\n",
    "from sklearn.cluster import KMeans\n",
    "from sklearn.decomposition import PCA\n",
    "from sklearn.impute import KNNImputer\n",
    "\n",
    "import tensorflow as tf\n",
    "from tensorflow import keras\n",
    "\n",
    "import matplotlib.pyplot as plt"
   ]
  },
  {
   "cell_type": "code",
   "execution_count": 2,
   "id": "69b40e03",
   "metadata": {},
   "outputs": [],
   "source": [
    "gene_effect_df = pd.read_csv(\"CRISPRGeneEffect.csv\").rename(columns = {'Unnamed: 0': 'ModelID'})\n",
    "model_df = pd.read_csv(\"Model.csv\")\n",
    "\n",
    "merged_df = pd.merge(gene_effect_df, model_df[['ModelID','CellLineName','OncotreeLineage']], on='ModelID', how='inner')\n",
    "\n",
    "new_cols = gene_effect_df.columns.tolist()\n",
    "new_cols.insert(1, \"OncotreeLineage\")\n",
    "# new_cols.insert(2, \"CellLineName\")\n",
    "\n",
    "gene_df = merged_df[new_cols]"
   ]
  },
  {
   "cell_type": "code",
   "execution_count": 3,
   "id": "27094060",
   "metadata": {},
   "outputs": [],
   "source": [
    "categorical_mapping = {item: idx for idx, item in enumerate(list(gene_df['OncotreeLineage'].unique()))}\n",
    "gene_df['Lineage as Number'] = gene_df['OncotreeLineage'].map(categorical_mapping)\n",
    "\n",
    "gene_df = gene_df.fillna(0)\n",
    "\n",
    "gene_df = gene_df.set_index('ModelID')\n",
    "\n",
    "# gene_df.head()"
   ]
  },
  {
   "cell_type": "code",
   "execution_count": 4,
   "id": "735611a0",
   "metadata": {},
   "outputs": [],
   "source": [
    "X = gene_df.drop(columns = ['Lineage as Number', 'OncotreeLineage'])\n",
    "y = gene_df['Lineage as Number']"
   ]
  },
  {
   "cell_type": "markdown",
   "id": "5d4a9d35",
   "metadata": {},
   "source": [
    "# Linear Regression"
   ]
  },
  {
   "cell_type": "markdown",
   "id": "d3339216",
   "metadata": {},
   "source": [
    "### Normal"
   ]
  },
  {
   "cell_type": "code",
   "execution_count": 5,
   "id": "48d7abab",
   "metadata": {},
   "outputs": [
    {
     "name": "stdout",
     "output_type": "stream",
     "text": [
      "0.45580046640399585\n"
     ]
    }
   ],
   "source": [
    "X_train_linear, X_test_linear, y_train_linear, y_test_linear = train_test_split(X, y, test_size=0.1)\n",
    "\n",
    "model_linear = LinearRegression()\n",
    "model_linear.fit(X_train_linear, y_train_linear)\n",
    "\n",
    "y_pred_linear = model_linear.predict(X_test_linear)\n",
    "\n",
    "mse = mean_squared_error(y_test_linear, y_pred_linear)\n",
    "r2 = r2_score(y_test_linear, y_pred_linear)\n",
    "\n",
    "print(r2)"
   ]
  },
  {
   "cell_type": "markdown",
   "id": "d0d0bed7",
   "metadata": {},
   "source": [
    "### Cross Validation"
   ]
  },
  {
   "cell_type": "code",
   "execution_count": 6,
   "id": "d5103a49",
   "metadata": {},
   "outputs": [
    {
     "name": "stdout",
     "output_type": "stream",
     "text": [
      "0.3090769693580074\n"
     ]
    }
   ],
   "source": [
    "cv = KFold(n_splits = 10, random_state = 1, shuffle=True)\n",
    "\n",
    "cv_scores_linear = cross_val_score(model_linear, X, y, cv=cv)\n",
    "avg_score_linear = np.mean(cv_scores_linear)\n",
    "\n",
    "print(avg_score_linear)"
   ]
  },
  {
   "cell_type": "markdown",
   "id": "447a5206",
   "metadata": {},
   "source": [
    "# Logistic Regression"
   ]
  },
  {
   "cell_type": "markdown",
   "id": "20680df7",
   "metadata": {},
   "source": [
    "### Normal"
   ]
  },
  {
   "cell_type": "code",
   "execution_count": 7,
   "id": "6f697eec",
   "metadata": {},
   "outputs": [
    {
     "name": "stdout",
     "output_type": "stream",
     "text": [
      "0.6909090909090909\n"
     ]
    }
   ],
   "source": [
    "X_train_log, X_test_log, y_train_log, y_test_log = train_test_split(X, y, test_size=0.1)\n",
    "\n",
    "model_log = LogisticRegression(multi_class = 'multinomial', solver = 'lbfgs', max_iter = 1000)\n",
    "model_log.fit(X_train_log, y_train_log)\n",
    "\n",
    "y_pred_log = model_log.predict(X_test_log)\n",
    "\n",
    "accuracy_log = accuracy_score(y_test_log, y_pred_log)\n",
    "print(accuracy_log)"
   ]
  },
  {
   "cell_type": "markdown",
   "id": "ca4d86b8",
   "metadata": {},
   "source": [
    "### Cross Validation"
   ]
  },
  {
   "cell_type": "code",
   "execution_count": 9,
   "id": "5782e325",
   "metadata": {},
   "outputs": [
    {
     "name": "stdout",
     "output_type": "stream",
     "text": [
      "[0.74545455 0.60909091 0.58181818 0.65454545 0.69090909 0.69090909\n",
      " 0.69090909 0.66363636 0.69090909 0.74545455]\n",
      "0.6763636363636363\n"
     ]
    }
   ],
   "source": [
    "kf = KFold(n_splits = 10, random_state = 1, shuffle=True)\n",
    "\n",
    "cv_scores_log = cross_val_score(model_log, X, y, cv=kf)\n",
    "avg_score_log = np.mean(cv_scores_log)\n",
    "print(cv_scores_log)\n",
    "print(avg_score_log)"
   ]
  },
  {
   "cell_type": "markdown",
   "id": "3a8f822a",
   "metadata": {},
   "source": [
    "#  KNN"
   ]
  },
  {
   "cell_type": "markdown",
   "id": "83f29cd4",
   "metadata": {},
   "source": [
    "### Normal"
   ]
  },
  {
   "cell_type": "code",
   "execution_count": 10,
   "id": "66853534",
   "metadata": {},
   "outputs": [
    {
     "name": "stdout",
     "output_type": "stream",
     "text": [
      "0.2636363636363636\n"
     ]
    }
   ],
   "source": [
    "X_train_knn, X_test_knn, y_train_knn, y_test_knn = train_test_split(X, y, test_size=0.1)\n",
    "\n",
    "model_knn = KNeighborsClassifier(n_neighbors=5)\n",
    "model_knn.fit(X_train_knn, y_train_knn)\n",
    "\n",
    "y_pred_knn = model_knn.predict(X_test_knn)\n",
    "\n",
    "accuracy_knn = accuracy_score(y_test_knn, y_pred_knn)\n",
    "print(accuracy_knn)"
   ]
  },
  {
   "cell_type": "markdown",
   "id": "248d6784",
   "metadata": {},
   "source": [
    "### Cross Validation"
   ]
  },
  {
   "cell_type": "code",
   "execution_count": 11,
   "id": "13c44a82",
   "metadata": {},
   "outputs": [
    {
     "name": "stdout",
     "output_type": "stream",
     "text": [
      "[0.41818182 0.29090909 0.19090909 0.36363636 0.33636364 0.29090909\n",
      " 0.30909091 0.31818182 0.32727273 0.29090909]\n",
      "0.3136363636363636\n"
     ]
    }
   ],
   "source": [
    "kf_knn = KFold(n_splits = 10, random_state = 1, shuffle=True)\n",
    "\n",
    "cv_scores_knn = cross_val_score(model_knn, X, y, cv = kf_knn)\n",
    "avg_score_knn = np.mean(cv_scores_knn)\n",
    "print(cv_scores_knn)\n",
    "print(avg_score_knn)"
   ]
  },
  {
   "cell_type": "markdown",
   "id": "483a4081",
   "metadata": {},
   "source": [
    "# Random Forest"
   ]
  },
  {
   "cell_type": "markdown",
   "id": "69d7e611",
   "metadata": {},
   "source": [
    "### Normal"
   ]
  },
  {
   "cell_type": "code",
   "execution_count": 12,
   "id": "57bdd438",
   "metadata": {},
   "outputs": [
    {
     "name": "stdout",
     "output_type": "stream",
     "text": [
      "0.37272727272727274\n"
     ]
    }
   ],
   "source": [
    "X_train_rf, X_test_rf, y_train_rf, y_test_rf = train_test_split(X, y, test_size=0.1)\n",
    "\n",
    "model_rf = RandomForestClassifier(n_estimators=100)\n",
    "model_rf.fit(X_train_rf, y_train_rf)\n",
    "\n",
    "y_pred_rf = model_rf.predict(X_test_rf)\n",
    "\n",
    "accuracy_rf = accuracy_score(y_test_rf, y_pred_rf)\n",
    "print(accuracy_rf)"
   ]
  },
  {
   "cell_type": "markdown",
   "id": "c40f30a6",
   "metadata": {},
   "source": [
    "### Cross Validation"
   ]
  },
  {
   "cell_type": "code",
   "execution_count": 13,
   "id": "b4d8a2e5",
   "metadata": {},
   "outputs": [
    {
     "name": "stdout",
     "output_type": "stream",
     "text": [
      "[0.52727273 0.32727273 0.34545455 0.36363636 0.43636364 0.43636364\n",
      " 0.4        0.42727273 0.4        0.47272727]\n",
      "0.4136363636363637\n"
     ]
    }
   ],
   "source": [
    "kf_rf = KFold(n_splits = 10, random_state = 1, shuffle = True)\n",
    "\n",
    "cv_scores_rf = cross_val_score(model_rf, X, y, cv = kf_rf)\n",
    "avg_score_rf = np.mean(cv_scores_rf)\n",
    "print(cv_scores_rf)\n",
    "print(avg_score_rf)"
   ]
  },
  {
   "cell_type": "markdown",
   "id": "d6d87168",
   "metadata": {},
   "source": [
    "# Gradient Boosting"
   ]
  },
  {
   "cell_type": "markdown",
   "id": "70d4e75d",
   "metadata": {},
   "source": [
    "### Normal"
   ]
  },
  {
   "cell_type": "code",
   "execution_count": 14,
   "id": "1447dbfb",
   "metadata": {},
   "outputs": [],
   "source": [
    "# X_train_gb, X_test_gb, y_train_gb, y_test_gb = train_test_split(X, y, test_size=0.1)\n",
    "\n",
    "# model_gb = GradientBoostingClassifier(n_estimators=100)\n",
    "# model_gb.fit(X_train_gb, y_train_gb)\n",
    "\n",
    "# y_pred_gb = model_gb.predict(X_test_gb)\n",
    "\n",
    "# accuracy_gb = accuracy_score(y_test_gb, y_pred_gb)\n",
    "# print(accuracy_gb)"
   ]
  },
  {
   "cell_type": "markdown",
   "id": "d90fb979",
   "metadata": {},
   "source": [
    "### Cross Validation"
   ]
  },
  {
   "cell_type": "code",
   "execution_count": 15,
   "id": "d0b3b7e2",
   "metadata": {},
   "outputs": [],
   "source": [
    "# kf_gb = KFold(n_splits = 10, random_state = 1, shuffle = True)\n",
    "\n",
    "# cv_scores_gb = cross_val_score(model_gb, X, y, cv = kf_gb)\n",
    "# avg_score_gb = np.mean(cv_scores_gb)\n",
    "# print(cv_scores_gb)\n",
    "# print(avg_score_gb)"
   ]
  },
  {
   "cell_type": "markdown",
   "id": "eb317eda",
   "metadata": {},
   "source": [
    "# Support Vector Machine"
   ]
  },
  {
   "cell_type": "markdown",
   "id": "24259be2",
   "metadata": {},
   "source": [
    "### Normal"
   ]
  },
  {
   "cell_type": "code",
   "execution_count": 16,
   "id": "30fbba2f",
   "metadata": {},
   "outputs": [
    {
     "name": "stdout",
     "output_type": "stream",
     "text": [
      "0.16363636363636364\n"
     ]
    }
   ],
   "source": [
    "X_train_sv, X_test_sv, y_train_sv, y_test_sv = train_test_split(X, y, test_size=0.1)\n",
    "\n",
    "model_sv = SVC(kernel = 'rbf', gamma = 'auto')\n",
    "model_sv.fit(X_train_sv, y_train_sv)\n",
    "\n",
    "y_pred_sv = model_sv.predict(X_test_sv)\n",
    "\n",
    "accuracy_sv = accuracy_score(y_test_sv, y_pred_sv)\n",
    "print(accuracy_sv)"
   ]
  },
  {
   "cell_type": "markdown",
   "id": "c65d3afc",
   "metadata": {},
   "source": [
    "### Cross Validation"
   ]
  },
  {
   "cell_type": "code",
   "execution_count": 17,
   "id": "be8ed584",
   "metadata": {},
   "outputs": [
    {
     "name": "stdout",
     "output_type": "stream",
     "text": [
      "[0.10909091 0.11818182 0.09090909 0.07272727 0.09090909 0.10909091\n",
      " 0.1        0.13636364 0.17272727 0.08181818]\n",
      "0.10818181818181818\n"
     ]
    }
   ],
   "source": [
    "kf_sv = KFold(n_splits = 10, random_state = 1, shuffle = True)\n",
    "    \n",
    "cv_scores_sv = cross_val_score(model_sv, X, y, cv = kf_sv)\n",
    "avg_score_sv = np.mean(cv_scores_sv)\n",
    "print(cv_scores_sv)\n",
    "print(avg_score_sv)"
   ]
  },
  {
   "cell_type": "markdown",
   "id": "987758c2",
   "metadata": {},
   "source": [
    "# Neural Network"
   ]
  },
  {
   "cell_type": "markdown",
   "id": "3ce381c7",
   "metadata": {},
   "source": [
    "### Normal"
   ]
  },
  {
   "cell_type": "code",
   "execution_count": 18,
   "id": "1651c0de",
   "metadata": {
    "scrolled": true
   },
   "outputs": [
    {
     "name": "stdout",
     "output_type": "stream",
     "text": [
      "Epoch 1/30\n",
      "\u001b[1m8/8\u001b[0m \u001b[32m━━━━━━━━━━━━━━━━━━━━\u001b[0m\u001b[37m\u001b[0m \u001b[1m3s\u001b[0m 88ms/step - accuracy: 0.0806 - loss: 3.2637 - val_accuracy: 0.0909 - val_loss: 3.1636\n",
      "Epoch 2/30\n",
      "\u001b[1m8/8\u001b[0m \u001b[32m━━━━━━━━━━━━━━━━━━━━\u001b[0m\u001b[37m\u001b[0m \u001b[1m0s\u001b[0m 35ms/step - accuracy: 0.1166 - loss: 3.0931 - val_accuracy: 0.1545 - val_loss: 3.0632\n",
      "Epoch 3/30\n",
      "\u001b[1m8/8\u001b[0m \u001b[32m━━━━━━━━━━━━━━━━━━━━\u001b[0m\u001b[37m\u001b[0m \u001b[1m0s\u001b[0m 29ms/step - accuracy: 0.1591 - loss: 3.0131 - val_accuracy: 0.1000 - val_loss: 3.0038\n",
      "Epoch 4/30\n",
      "\u001b[1m8/8\u001b[0m \u001b[32m━━━━━━━━━━━━━━━━━━━━\u001b[0m\u001b[37m\u001b[0m \u001b[1m0s\u001b[0m 35ms/step - accuracy: 0.1290 - loss: 2.9708 - val_accuracy: 0.2455 - val_loss: 2.9270\n",
      "Epoch 5/30\n",
      "\u001b[1m8/8\u001b[0m \u001b[32m━━━━━━━━━━━━━━━━━━━━\u001b[0m\u001b[37m\u001b[0m \u001b[1m0s\u001b[0m 34ms/step - accuracy: 0.1976 - loss: 2.8886 - val_accuracy: 0.2364 - val_loss: 2.9205\n",
      "Epoch 6/30\n",
      "\u001b[1m8/8\u001b[0m \u001b[32m━━━━━━━━━━━━━━━━━━━━\u001b[0m\u001b[37m\u001b[0m \u001b[1m0s\u001b[0m 31ms/step - accuracy: 0.2175 - loss: 2.8411 - val_accuracy: 0.2182 - val_loss: 2.8220\n",
      "Epoch 7/30\n",
      "\u001b[1m8/8\u001b[0m \u001b[32m━━━━━━━━━━━━━━━━━━━━\u001b[0m\u001b[37m\u001b[0m \u001b[1m0s\u001b[0m 33ms/step - accuracy: 0.1743 - loss: 2.8681 - val_accuracy: 0.1273 - val_loss: 2.8848\n",
      "Epoch 8/30\n",
      "\u001b[1m8/8\u001b[0m \u001b[32m━━━━━━━━━━━━━━━━━━━━\u001b[0m\u001b[37m\u001b[0m \u001b[1m0s\u001b[0m 31ms/step - accuracy: 0.2312 - loss: 2.7363 - val_accuracy: 0.2727 - val_loss: 2.7754\n",
      "Epoch 9/30\n",
      "\u001b[1m8/8\u001b[0m \u001b[32m━━━━━━━━━━━━━━━━━━━━\u001b[0m\u001b[37m\u001b[0m \u001b[1m0s\u001b[0m 36ms/step - accuracy: 0.2572 - loss: 2.7100 - val_accuracy: 0.3091 - val_loss: 2.6596\n",
      "Epoch 10/30\n",
      "\u001b[1m8/8\u001b[0m \u001b[32m━━━━━━━━━━━━━━━━━━━━\u001b[0m\u001b[37m\u001b[0m \u001b[1m0s\u001b[0m 28ms/step - accuracy: 0.2390 - loss: 2.6697 - val_accuracy: 0.1455 - val_loss: 2.8294\n",
      "Epoch 11/30\n",
      "\u001b[1m8/8\u001b[0m \u001b[32m━━━━━━━━━━━━━━━━━━━━\u001b[0m\u001b[37m\u001b[0m \u001b[1m0s\u001b[0m 37ms/step - accuracy: 0.2245 - loss: 2.7154 - val_accuracy: 0.1727 - val_loss: 2.8035\n",
      "Epoch 12/30\n",
      "\u001b[1m8/8\u001b[0m \u001b[32m━━━━━━━━━━━━━━━━━━━━\u001b[0m\u001b[37m\u001b[0m \u001b[1m0s\u001b[0m 27ms/step - accuracy: 0.2661 - loss: 2.5423 - val_accuracy: 0.2000 - val_loss: 2.7284\n",
      "Epoch 13/30\n",
      "\u001b[1m8/8\u001b[0m \u001b[32m━━━━━━━━━━━━━━━━━━━━\u001b[0m\u001b[37m\u001b[0m \u001b[1m0s\u001b[0m 32ms/step - accuracy: 0.3501 - loss: 2.4803 - val_accuracy: 0.1545 - val_loss: 3.1906\n",
      "Epoch 14/30\n",
      "\u001b[1m8/8\u001b[0m \u001b[32m━━━━━━━━━━━━━━━━━━━━\u001b[0m\u001b[37m\u001b[0m \u001b[1m0s\u001b[0m 30ms/step - accuracy: 0.2971 - loss: 2.5756 - val_accuracy: 0.3364 - val_loss: 2.5964\n",
      "Epoch 15/30\n",
      "\u001b[1m8/8\u001b[0m \u001b[32m━━━━━━━━━━━━━━━━━━━━\u001b[0m\u001b[37m\u001b[0m \u001b[1m0s\u001b[0m 32ms/step - accuracy: 0.2999 - loss: 2.4510 - val_accuracy: 0.1455 - val_loss: 2.9598\n",
      "Epoch 16/30\n",
      "\u001b[1m8/8\u001b[0m \u001b[32m━━━━━━━━━━━━━━━━━━━━\u001b[0m\u001b[37m\u001b[0m \u001b[1m0s\u001b[0m 32ms/step - accuracy: 0.3329 - loss: 2.4228 - val_accuracy: 0.2636 - val_loss: 2.5033\n",
      "Epoch 17/30\n",
      "\u001b[1m8/8\u001b[0m \u001b[32m━━━━━━━━━━━━━━━━━━━━\u001b[0m\u001b[37m\u001b[0m \u001b[1m0s\u001b[0m 31ms/step - accuracy: 0.2869 - loss: 2.4214 - val_accuracy: 0.3182 - val_loss: 2.5784\n",
      "Epoch 18/30\n",
      "\u001b[1m8/8\u001b[0m \u001b[32m━━━━━━━━━━━━━━━━━━━━\u001b[0m\u001b[37m\u001b[0m \u001b[1m0s\u001b[0m 37ms/step - accuracy: 0.3596 - loss: 2.3049 - val_accuracy: 0.3091 - val_loss: 2.4486\n",
      "Epoch 19/30\n",
      "\u001b[1m8/8\u001b[0m \u001b[32m━━━━━━━━━━━━━━━━━━━━\u001b[0m\u001b[37m\u001b[0m \u001b[1m0s\u001b[0m 31ms/step - accuracy: 0.4143 - loss: 2.1427 - val_accuracy: 0.3818 - val_loss: 2.4936\n",
      "Epoch 20/30\n",
      "\u001b[1m8/8\u001b[0m \u001b[32m━━━━━━━━━━━━━━━━━━━━\u001b[0m\u001b[37m\u001b[0m \u001b[1m0s\u001b[0m 33ms/step - accuracy: 0.3311 - loss: 2.3777 - val_accuracy: 0.2909 - val_loss: 2.5358\n",
      "Epoch 21/30\n",
      "\u001b[1m8/8\u001b[0m \u001b[32m━━━━━━━━━━━━━━━━━━━━\u001b[0m\u001b[37m\u001b[0m \u001b[1m0s\u001b[0m 33ms/step - accuracy: 0.4259 - loss: 2.1345 - val_accuracy: 0.3000 - val_loss: 2.4570\n",
      "Epoch 22/30\n",
      "\u001b[1m8/8\u001b[0m \u001b[32m━━━━━━━━━━━━━━━━━━━━\u001b[0m\u001b[37m\u001b[0m \u001b[1m0s\u001b[0m 31ms/step - accuracy: 0.3936 - loss: 2.1421 - val_accuracy: 0.3000 - val_loss: 2.5086\n",
      "Epoch 23/30\n",
      "\u001b[1m8/8\u001b[0m \u001b[32m━━━━━━━━━━━━━━━━━━━━\u001b[0m\u001b[37m\u001b[0m \u001b[1m0s\u001b[0m 36ms/step - accuracy: 0.3500 - loss: 2.2194 - val_accuracy: 0.2636 - val_loss: 2.5099\n",
      "Epoch 24/30\n",
      "\u001b[1m8/8\u001b[0m \u001b[32m━━━━━━━━━━━━━━━━━━━━\u001b[0m\u001b[37m\u001b[0m \u001b[1m0s\u001b[0m 30ms/step - accuracy: 0.3518 - loss: 2.2432 - val_accuracy: 0.2909 - val_loss: 2.6756\n",
      "Epoch 25/30\n",
      "\u001b[1m8/8\u001b[0m \u001b[32m━━━━━━━━━━━━━━━━━━━━\u001b[0m\u001b[37m\u001b[0m \u001b[1m0s\u001b[0m 31ms/step - accuracy: 0.4396 - loss: 2.1250 - val_accuracy: 0.2455 - val_loss: 2.4621\n",
      "Epoch 26/30\n",
      "\u001b[1m8/8\u001b[0m \u001b[32m━━━━━━━━━━━━━━━━━━━━\u001b[0m\u001b[37m\u001b[0m \u001b[1m0s\u001b[0m 32ms/step - accuracy: 0.3272 - loss: 2.2411 - val_accuracy: 0.3091 - val_loss: 2.5355\n",
      "Epoch 27/30\n",
      "\u001b[1m8/8\u001b[0m \u001b[32m━━━━━━━━━━━━━━━━━━━━\u001b[0m\u001b[37m\u001b[0m \u001b[1m0s\u001b[0m 30ms/step - accuracy: 0.3816 - loss: 2.1191 - val_accuracy: 0.3000 - val_loss: 2.4426\n",
      "Epoch 28/30\n",
      "\u001b[1m8/8\u001b[0m \u001b[32m━━━━━━━━━━━━━━━━━━━━\u001b[0m\u001b[37m\u001b[0m \u001b[1m0s\u001b[0m 36ms/step - accuracy: 0.4103 - loss: 2.0692 - val_accuracy: 0.4091 - val_loss: 2.2432\n",
      "Epoch 29/30\n",
      "\u001b[1m8/8\u001b[0m \u001b[32m━━━━━━━━━━━━━━━━━━━━\u001b[0m\u001b[37m\u001b[0m \u001b[1m0s\u001b[0m 36ms/step - accuracy: 0.5117 - loss: 1.8593 - val_accuracy: 0.2182 - val_loss: 2.4260\n",
      "Epoch 30/30\n",
      "\u001b[1m8/8\u001b[0m \u001b[32m━━━━━━━━━━━━━━━━━━━━\u001b[0m\u001b[37m\u001b[0m \u001b[1m0s\u001b[0m 31ms/step - accuracy: 0.4133 - loss: 2.0057 - val_accuracy: 0.4727 - val_loss: 2.1512\n",
      "\u001b[1m4/4\u001b[0m \u001b[32m━━━━━━━━━━━━━━━━━━━━\u001b[0m\u001b[37m\u001b[0m \u001b[1m0s\u001b[0m 5ms/step - accuracy: 0.5058 - loss: 2.1263  \n"
     ]
    },
    {
     "data": {
      "text/plain": [
       "[2.1976165771484375, 0.4727272689342499]"
      ]
     },
     "execution_count": 18,
     "metadata": {},
     "output_type": "execute_result"
    }
   ],
   "source": [
    "X_train_nn, X_test_nn, y_train_nn, y_test_nn = train_test_split(X, y, test_size=0.1)\n",
    "\n",
    "\n",
    "model = keras.models.Sequential([\n",
    "    keras.layers.Dense(300, activation=\"relu\"),\n",
    "    keras.layers.Dense(100, activation=\"relu\"),\n",
    "    keras.layers.Dense(28, activation=\"softmax\")\n",
    "])\n",
    "\n",
    "model.compile(loss=\"sparse_categorical_crossentropy\",\n",
    "              optimizer=\"sgd\",\n",
    "              metrics=[\"accuracy\"])\n",
    "\n",
    "history = model.fit(X_train_nn, y_train_nn,\n",
    "          batch_size=128, epochs=30,\n",
    "          verbose=1,\n",
    "          validation_data=(X_test_nn, y_test_nn))\n",
    "\n",
    "model.evaluate(X_test_nn, y_test_nn)"
   ]
  },
  {
   "cell_type": "code",
   "execution_count": 19,
   "id": "4e55f17e",
   "metadata": {
    "scrolled": true
   },
   "outputs": [],
   "source": [
    "# historysgd = model.fit(X_train_nn, y_train_nn, epochs=30,\n",
    "#                     validation_data=(X_test_nn, y_test_nn))"
   ]
  },
  {
   "cell_type": "markdown",
   "id": "1fd7ea5f",
   "metadata": {},
   "source": [
    "### Cross Validation"
   ]
  },
  {
   "cell_type": "code",
   "execution_count": 20,
   "id": "361cad07",
   "metadata": {
    "scrolled": true
   },
   "outputs": [
    {
     "name": "stdout",
     "output_type": "stream",
     "text": [
      "Epoch 1/10\n",
      "\u001b[1m28/28\u001b[0m \u001b[32m━━━━━━━━━━━━━━━━━━━━\u001b[0m\u001b[37m\u001b[0m \u001b[1m2s\u001b[0m 16ms/step - accuracy: 0.1009 - loss: 3.2225\n",
      "Epoch 2/10\n",
      "\u001b[1m28/28\u001b[0m \u001b[32m━━━━━━━━━━━━━━━━━━━━\u001b[0m\u001b[37m\u001b[0m \u001b[1m1s\u001b[0m 16ms/step - accuracy: 0.1478 - loss: 3.0534\n",
      "Epoch 3/10\n",
      "\u001b[1m28/28\u001b[0m \u001b[32m━━━━━━━━━━━━━━━━━━━━\u001b[0m\u001b[37m\u001b[0m \u001b[1m1s\u001b[0m 15ms/step - accuracy: 0.1524 - loss: 2.9696\n",
      "Epoch 4/10\n",
      "\u001b[1m28/28\u001b[0m \u001b[32m━━━━━━━━━━━━━━━━━━━━\u001b[0m\u001b[37m\u001b[0m \u001b[1m1s\u001b[0m 17ms/step - accuracy: 0.2213 - loss: 2.7934\n",
      "Epoch 5/10\n",
      "\u001b[1m28/28\u001b[0m \u001b[32m━━━━━━━━━━━━━━━━━━━━\u001b[0m\u001b[37m\u001b[0m \u001b[1m0s\u001b[0m 16ms/step - accuracy: 0.1867 - loss: 2.7579\n",
      "Epoch 6/10\n",
      "\u001b[1m28/28\u001b[0m \u001b[32m━━━━━━━━━━━━━━━━━━━━\u001b[0m\u001b[37m\u001b[0m \u001b[1m1s\u001b[0m 16ms/step - accuracy: 0.2386 - loss: 2.6308\n",
      "Epoch 7/10\n",
      "\u001b[1m28/28\u001b[0m \u001b[32m━━━━━━━━━━━━━━━━━━━━\u001b[0m\u001b[37m\u001b[0m \u001b[1m1s\u001b[0m 16ms/step - accuracy: 0.2659 - loss: 2.5256\n",
      "Epoch 8/10\n",
      "\u001b[1m28/28\u001b[0m \u001b[32m━━━━━━━━━━━━━━━━━━━━\u001b[0m\u001b[37m\u001b[0m \u001b[1m0s\u001b[0m 16ms/step - accuracy: 0.2702 - loss: 2.4514\n",
      "Epoch 9/10\n",
      "\u001b[1m28/28\u001b[0m \u001b[32m━━━━━━━━━━━━━━━━━━━━\u001b[0m\u001b[37m\u001b[0m \u001b[1m0s\u001b[0m 15ms/step - accuracy: 0.3425 - loss: 2.3218\n",
      "Epoch 10/10\n",
      "\u001b[1m28/28\u001b[0m \u001b[32m━━━━━━━━━━━━━━━━━━━━\u001b[0m\u001b[37m\u001b[0m \u001b[1m1s\u001b[0m 17ms/step - accuracy: 0.3341 - loss: 2.2858\n",
      "\u001b[1m7/7\u001b[0m \u001b[32m━━━━━━━━━━━━━━━━━━━━\u001b[0m\u001b[37m\u001b[0m \u001b[1m0s\u001b[0m 11ms/step - accuracy: 0.1772 - loss: 2.8098\n",
      "Epoch 1/10\n",
      "\u001b[1m28/28\u001b[0m \u001b[32m━━━━━━━━━━━━━━━━━━━━\u001b[0m\u001b[37m\u001b[0m \u001b[1m1s\u001b[0m 17ms/step - accuracy: 0.3299 - loss: 2.2161\n",
      "Epoch 2/10\n",
      "\u001b[1m28/28\u001b[0m \u001b[32m━━━━━━━━━━━━━━━━━━━━\u001b[0m\u001b[37m\u001b[0m \u001b[1m1s\u001b[0m 15ms/step - accuracy: 0.4068 - loss: 2.0681\n",
      "Epoch 3/10\n",
      "\u001b[1m28/28\u001b[0m \u001b[32m━━━━━━━━━━━━━━━━━━━━\u001b[0m\u001b[37m\u001b[0m \u001b[1m1s\u001b[0m 17ms/step - accuracy: 0.4157 - loss: 2.0695\n",
      "Epoch 4/10\n",
      "\u001b[1m28/28\u001b[0m \u001b[32m━━━━━━━━━━━━━━━━━━━━\u001b[0m\u001b[37m\u001b[0m \u001b[1m0s\u001b[0m 15ms/step - accuracy: 0.4598 - loss: 1.8478\n",
      "Epoch 5/10\n",
      "\u001b[1m28/28\u001b[0m \u001b[32m━━━━━━━━━━━━━━━━━━━━\u001b[0m\u001b[37m\u001b[0m \u001b[1m1s\u001b[0m 16ms/step - accuracy: 0.5359 - loss: 1.7114\n",
      "Epoch 6/10\n",
      "\u001b[1m28/28\u001b[0m \u001b[32m━━━━━━━━━━━━━━━━━━━━\u001b[0m\u001b[37m\u001b[0m \u001b[1m0s\u001b[0m 15ms/step - accuracy: 0.5273 - loss: 1.6865\n",
      "Epoch 7/10\n",
      "\u001b[1m28/28\u001b[0m \u001b[32m━━━━━━━━━━━━━━━━━━━━\u001b[0m\u001b[37m\u001b[0m \u001b[1m1s\u001b[0m 16ms/step - accuracy: 0.4781 - loss: 1.7998\n",
      "Epoch 8/10\n",
      "\u001b[1m28/28\u001b[0m \u001b[32m━━━━━━━━━━━━━━━━━━━━\u001b[0m\u001b[37m\u001b[0m \u001b[1m1s\u001b[0m 17ms/step - accuracy: 0.5582 - loss: 1.5811\n",
      "Epoch 9/10\n",
      "\u001b[1m28/28\u001b[0m \u001b[32m━━━━━━━━━━━━━━━━━━━━\u001b[0m\u001b[37m\u001b[0m \u001b[1m1s\u001b[0m 16ms/step - accuracy: 0.6272 - loss: 1.3098\n",
      "Epoch 10/10\n",
      "\u001b[1m28/28\u001b[0m \u001b[32m━━━━━━━━━━━━━━━━━━━━\u001b[0m\u001b[37m\u001b[0m \u001b[1m1s\u001b[0m 17ms/step - accuracy: 0.6220 - loss: 1.3232\n",
      "\u001b[1m7/7\u001b[0m \u001b[32m━━━━━━━━━━━━━━━━━━━━\u001b[0m\u001b[37m\u001b[0m \u001b[1m0s\u001b[0m 6ms/step - accuracy: 0.5011 - loss: 1.7740 \n",
      "Epoch 1/10\n",
      "\u001b[1m28/28\u001b[0m \u001b[32m━━━━━━━━━━━━━━━━━━━━\u001b[0m\u001b[37m\u001b[0m \u001b[1m1s\u001b[0m 18ms/step - accuracy: 0.6224 - loss: 1.3531\n",
      "Epoch 2/10\n",
      "\u001b[1m28/28\u001b[0m \u001b[32m━━━━━━━━━━━━━━━━━━━━\u001b[0m\u001b[37m\u001b[0m \u001b[1m1s\u001b[0m 17ms/step - accuracy: 0.5804 - loss: 1.4920\n",
      "Epoch 3/10\n",
      "\u001b[1m28/28\u001b[0m \u001b[32m━━━━━━━━━━━━━━━━━━━━\u001b[0m\u001b[37m\u001b[0m \u001b[1m1s\u001b[0m 18ms/step - accuracy: 0.6549 - loss: 1.3261\n",
      "Epoch 4/10\n",
      "\u001b[1m28/28\u001b[0m \u001b[32m━━━━━━━━━━━━━━━━━━━━\u001b[0m\u001b[37m\u001b[0m \u001b[1m1s\u001b[0m 16ms/step - accuracy: 0.7131 - loss: 1.1719\n",
      "Epoch 5/10\n",
      "\u001b[1m28/28\u001b[0m \u001b[32m━━━━━━━━━━━━━━━━━━━━\u001b[0m\u001b[37m\u001b[0m \u001b[1m1s\u001b[0m 18ms/step - accuracy: 0.6774 - loss: 1.1768\n",
      "Epoch 6/10\n",
      "\u001b[1m28/28\u001b[0m \u001b[32m━━━━━━━━━━━━━━━━━━━━\u001b[0m\u001b[37m\u001b[0m \u001b[1m0s\u001b[0m 16ms/step - accuracy: 0.5410 - loss: 1.7297\n",
      "Epoch 7/10\n",
      "\u001b[1m28/28\u001b[0m \u001b[32m━━━━━━━━━━━━━━━━━━━━\u001b[0m\u001b[37m\u001b[0m \u001b[1m1s\u001b[0m 19ms/step - accuracy: 0.6873 - loss: 1.1449\n",
      "Epoch 8/10\n",
      "\u001b[1m28/28\u001b[0m \u001b[32m━━━━━━━━━━━━━━━━━━━━\u001b[0m\u001b[37m\u001b[0m \u001b[1m1s\u001b[0m 17ms/step - accuracy: 0.6618 - loss: 1.2160\n",
      "Epoch 9/10\n",
      "\u001b[1m28/28\u001b[0m \u001b[32m━━━━━━━━━━━━━━━━━━━━\u001b[0m\u001b[37m\u001b[0m \u001b[1m1s\u001b[0m 19ms/step - accuracy: 0.7622 - loss: 0.9047\n",
      "Epoch 10/10\n",
      "\u001b[1m28/28\u001b[0m \u001b[32m━━━━━━━━━━━━━━━━━━━━\u001b[0m\u001b[37m\u001b[0m \u001b[1m1s\u001b[0m 17ms/step - accuracy: 0.7596 - loss: 0.9207\n",
      "\u001b[1m7/7\u001b[0m \u001b[32m━━━━━━━━━━━━━━━━━━━━\u001b[0m\u001b[37m\u001b[0m \u001b[1m0s\u001b[0m 8ms/step - accuracy: 0.6988 - loss: 1.0515 \n",
      "Epoch 1/10\n",
      "\u001b[1m28/28\u001b[0m \u001b[32m━━━━━━━━━━━━━━━━━━━━\u001b[0m\u001b[37m\u001b[0m \u001b[1m1s\u001b[0m 16ms/step - accuracy: 0.7360 - loss: 0.9324\n",
      "Epoch 2/10\n",
      "\u001b[1m28/28\u001b[0m \u001b[32m━━━━━━━━━━━━━━━━━━━━\u001b[0m\u001b[37m\u001b[0m \u001b[1m1s\u001b[0m 17ms/step - accuracy: 0.7148 - loss: 1.0075\n",
      "Epoch 3/10\n",
      "\u001b[1m28/28\u001b[0m \u001b[32m━━━━━━━━━━━━━━━━━━━━\u001b[0m\u001b[37m\u001b[0m \u001b[1m1s\u001b[0m 16ms/step - accuracy: 0.7332 - loss: 0.9538\n",
      "Epoch 4/10\n",
      "\u001b[1m28/28\u001b[0m \u001b[32m━━━━━━━━━━━━━━━━━━━━\u001b[0m\u001b[37m\u001b[0m \u001b[1m1s\u001b[0m 18ms/step - accuracy: 0.7366 - loss: 0.9351\n",
      "Epoch 5/10\n",
      "\u001b[1m28/28\u001b[0m \u001b[32m━━━━━━━━━━━━━━━━━━━━\u001b[0m\u001b[37m\u001b[0m \u001b[1m1s\u001b[0m 17ms/step - accuracy: 0.6717 - loss: 1.2139\n",
      "Epoch 6/10\n",
      "\u001b[1m28/28\u001b[0m \u001b[32m━━━━━━━━━━━━━━━━━━━━\u001b[0m\u001b[37m\u001b[0m \u001b[1m1s\u001b[0m 18ms/step - accuracy: 0.8254 - loss: 0.6967\n",
      "Epoch 7/10\n",
      "\u001b[1m28/28\u001b[0m \u001b[32m━━━━━━━━━━━━━━━━━━━━\u001b[0m\u001b[37m\u001b[0m \u001b[1m1s\u001b[0m 18ms/step - accuracy: 0.7152 - loss: 0.9674\n",
      "Epoch 8/10\n",
      "\u001b[1m28/28\u001b[0m \u001b[32m━━━━━━━━━━━━━━━━━━━━\u001b[0m\u001b[37m\u001b[0m \u001b[1m1s\u001b[0m 16ms/step - accuracy: 0.7445 - loss: 0.9622\n",
      "Epoch 9/10\n",
      "\u001b[1m28/28\u001b[0m \u001b[32m━━━━━━━━━━━━━━━━━━━━\u001b[0m\u001b[37m\u001b[0m \u001b[1m1s\u001b[0m 17ms/step - accuracy: 0.8629 - loss: 0.6429\n",
      "Epoch 10/10\n",
      "\u001b[1m28/28\u001b[0m \u001b[32m━━━━━━━━━━━━━━━━━━━━\u001b[0m\u001b[37m\u001b[0m \u001b[1m1s\u001b[0m 17ms/step - accuracy: 0.8734 - loss: 0.5024\n",
      "\u001b[1m7/7\u001b[0m \u001b[32m━━━━━━━━━━━━━━━━━━━━\u001b[0m\u001b[37m\u001b[0m \u001b[1m0s\u001b[0m 7ms/step - accuracy: 0.7003 - loss: 0.8874 \n",
      "Epoch 1/10\n",
      "\u001b[1m28/28\u001b[0m \u001b[32m━━━━━━━━━━━━━━━━━━━━\u001b[0m\u001b[37m\u001b[0m \u001b[1m0s\u001b[0m 16ms/step - accuracy: 0.7956 - loss: 0.6758\n",
      "Epoch 2/10\n",
      "\u001b[1m28/28\u001b[0m \u001b[32m━━━━━━━━━━━━━━━━━━━━\u001b[0m\u001b[37m\u001b[0m \u001b[1m1s\u001b[0m 17ms/step - accuracy: 0.8857 - loss: 0.4876\n",
      "Epoch 3/10\n",
      "\u001b[1m28/28\u001b[0m \u001b[32m━━━━━━━━━━━━━━━━━━━━\u001b[0m\u001b[37m\u001b[0m \u001b[1m1s\u001b[0m 17ms/step - accuracy: 0.8490 - loss: 0.5706\n",
      "Epoch 4/10\n",
      "\u001b[1m28/28\u001b[0m \u001b[32m━━━━━━━━━━━━━━━━━━━━\u001b[0m\u001b[37m\u001b[0m \u001b[1m1s\u001b[0m 17ms/step - accuracy: 0.9288 - loss: 0.3777\n",
      "Epoch 5/10\n",
      "\u001b[1m28/28\u001b[0m \u001b[32m━━━━━━━━━━━━━━━━━━━━\u001b[0m\u001b[37m\u001b[0m \u001b[1m1s\u001b[0m 16ms/step - accuracy: 0.8660 - loss: 0.5136\n",
      "Epoch 6/10\n",
      "\u001b[1m28/28\u001b[0m \u001b[32m━━━━━━━━━━━━━━━━━━━━\u001b[0m\u001b[37m\u001b[0m \u001b[1m1s\u001b[0m 17ms/step - accuracy: 0.8094 - loss: 0.7608\n",
      "Epoch 7/10\n",
      "\u001b[1m28/28\u001b[0m \u001b[32m━━━━━━━━━━━━━━━━━━━━\u001b[0m\u001b[37m\u001b[0m \u001b[1m1s\u001b[0m 16ms/step - accuracy: 0.9577 - loss: 0.2758\n",
      "Epoch 8/10\n",
      "\u001b[1m28/28\u001b[0m \u001b[32m━━━━━━━━━━━━━━━━━━━━\u001b[0m\u001b[37m\u001b[0m \u001b[1m0s\u001b[0m 16ms/step - accuracy: 0.9606 - loss: 0.2697\n",
      "Epoch 9/10\n",
      "\u001b[1m28/28\u001b[0m \u001b[32m━━━━━━━━━━━━━━━━━━━━\u001b[0m\u001b[37m\u001b[0m \u001b[1m1s\u001b[0m 17ms/step - accuracy: 0.9567 - loss: 0.2686\n",
      "Epoch 10/10\n",
      "\u001b[1m28/28\u001b[0m \u001b[32m━━━━━━━━━━━━━━━━━━━━\u001b[0m\u001b[37m\u001b[0m \u001b[1m1s\u001b[0m 17ms/step - accuracy: 0.6990 - loss: 1.3080\n",
      "\u001b[1m7/7\u001b[0m \u001b[32m━━━━━━━━━━━━━━━━━━━━\u001b[0m\u001b[37m\u001b[0m \u001b[1m0s\u001b[0m 7ms/step - accuracy: 0.9050 - loss: 0.3946 \n",
      "Average Accuracy: 0.5845454543828964\n"
     ]
    }
   ],
   "source": [
    "X_cv = np.array(X)\n",
    "y_cv = np.array(y)\n",
    "\n",
    "# Define the number of folds\n",
    "kf = KFold(n_splits=5, shuffle=True)\n",
    "\n",
    "# for train_index, val_index in kf.split(X_cv):\n",
    "#     X_train, X_val = X_cv[train_index], X_cv[val_index]\n",
    "#     y_train, y_val = y_cv[train_index], y_cv[val_index]\n",
    "    \n",
    "# print(X_train.shape)\n",
    "# print(X_val.shape)\n",
    "\n",
    "model = keras.models.Sequential()\n",
    "\n",
    "model = keras.models.Sequential([\n",
    "#     keras.layers.Flatten(input_shape=[128, 128]),\n",
    "    keras.layers.Dense(300, activation=\"relu\"),\n",
    "    keras.layers.Dense(100, activation=\"relu\"),\n",
    "    keras.layers.Dense(28, activation=\"softmax\")\n",
    "])\n",
    "\n",
    "model.compile(loss=\"sparse_categorical_crossentropy\",\n",
    "              optimizer=\"sgd\",\n",
    "              metrics=[\"accuracy\"])\n",
    "\n",
    "# Perform k-fold cross-validation\n",
    "fold_accuracies = []\n",
    "for train_index, val_index in kf.split(X_cv):\n",
    "    X_train, X_val = X_cv[train_index], X_cv[val_index]\n",
    "    y_train, y_val = y_cv[train_index], y_cv[val_index]\n",
    "    \n",
    "    # Train the model\n",
    "    model.fit(X_train, y_train, epochs=10, batch_size=32, verbose=1)\n",
    "    \n",
    "    # Evaluate the model on validation data\n",
    "    _, accuracy = model.evaluate(X_val, y_val, verbose=1)\n",
    "    fold_accuracies.append(accuracy)\n",
    "\n",
    "# Calculate average accuracy\n",
    "avg_accuracy = np.mean(fold_accuracies)\n",
    "print(\"Average Accuracy:\", avg_accuracy)"
   ]
  },
  {
   "cell_type": "markdown",
   "id": "b294d6a8",
   "metadata": {},
   "source": [
    "# PCA"
   ]
  },
  {
   "cell_type": "code",
   "execution_count": null,
   "id": "f9add076",
   "metadata": {},
   "outputs": [],
   "source": []
  }
 ],
 "metadata": {
  "kernelspec": {
   "display_name": "Python 3 (ipykernel)",
   "language": "python",
   "name": "python3"
  },
  "language_info": {
   "codemirror_mode": {
    "name": "ipython",
    "version": 3
   },
   "file_extension": ".py",
   "mimetype": "text/x-python",
   "name": "python",
   "nbconvert_exporter": "python",
   "pygments_lexer": "ipython3",
   "version": "3.9.13"
  }
 },
 "nbformat": 4,
 "nbformat_minor": 5
}
